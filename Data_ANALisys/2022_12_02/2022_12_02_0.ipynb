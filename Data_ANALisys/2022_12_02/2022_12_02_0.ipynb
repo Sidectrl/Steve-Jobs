{
 "cells": [
  {
   "cell_type": "markdown",
   "metadata": {},
   "source": [
    "Esercizio 1A\n",
    "scrivere una funzione esercizio1(L) che presa una lista converta ogni elemento in stringhe e conti\n",
    "il numero complessivo di carattere usato dalle stringhe risultanti."
   ]
  },
  {
   "cell_type": "code",
   "execution_count": null,
   "metadata": {},
   "outputs": [],
   "source": [
    "L = [32, \"ciao\", True]\n",
    "print(L)\n"
   ]
  },
  {
   "cell_type": "code",
   "execution_count": null,
   "metadata": {},
   "outputs": [],
   "source": [
    "def es1(L):\n",
    "    lista2 = []\n",
    "    count = 0\n",
    "    for iesim in L:\n",
    "        lista2.append(str(iesim))\n",
    "        count = count + len(str(iesim))\n",
    "    return [lista2, count]\n",
    "\n",
    "\n",
    "print(es1(L))\n"
   ]
  },
  {
   "cell_type": "markdown",
   "metadata": {},
   "source": [
    "Esercizio 1B\n",
    "scrivere una funzione cifra(s,k) che presa una stringa ne restituisca una in cui tutte le lettere sono\n",
    "“slittate” ciclicamente di k posti nell’alfabeto. Si assuma che s utilizzi solo lelettere minuscole\n",
    "dell’alfabeto inglese."
   ]
  },
  {
   "cell_type": "code",
   "execution_count": null,
   "metadata": {},
   "outputs": [],
   "source": [
    "alfabeto = \"abcdefghijKlmnoprstwxyz\"\n",
    "\n",
    "\n",
    "def es2(s, K):\n",
    "    newS = \"\"\n",
    "    for iesim in s:\n",
    "        newS += alfabeto[(alfabeto.find(iesim)+K) % len(alfabeto)]\n",
    "\n",
    "    return newS\n",
    "\n",
    "\n",
    "print(es2(\"zzz\", 3))\n"
   ]
  },
  {
   "cell_type": "markdown",
   "metadata": {},
   "source": [
    "Esercizio 1C\n",
    "date due liste di eguale lunghezza, una di stringhe e una di interi scrivere una funzione\n",
    "esercizio 3(K,V) che restituisce un dizionario che ha per chiavi gli elementi della prima lista e per\n",
    "\n",
    "valori gli elementi della seconda, se esistono chiavi duplicate la funzione deve dare messaggio di er-\n",
    "rore e restitusca un dizionario vuoto."
   ]
  },
  {
   "cell_type": "code",
   "execution_count": null,
   "metadata": {},
   "outputs": [],
   "source": [
    "def es3(K, V):\n",
    "    D = {}\n",
    "    if len(K) != len(V):\n",
    "        print(\"Warning: disegual list length\")\n",
    "        return {}\n",
    "    else:\n",
    "        for iesimK, iesimV in zip(K, V):\n",
    "            D[iesimK] = iesimV\n",
    "        if len(D) == len(K):\n",
    "            return D\n",
    "        else:\n",
    "            print(\"Warning: repeating keys\")\n",
    "            return {}\n",
    "\n",
    "\n",
    "print(es3([\"tizio\", \"caio\", \"sempronio\", \"berillio\"], [74, 92, 69, 1]))\n"
   ]
  },
  {
   "cell_type": "markdown",
   "metadata": {},
   "source": [
    "Esercizio 1D\n",
    "scrivere una funzione esercizio4(n,m) che crei due set composti da n elementi. Gli elementi sia-\n",
    "no interi a caso estratti nell’intervallo [1,m]. La funzione restituisca il numero di elementi comuni ai\n",
    "\n",
    "due insiemi. Eseguire la funzione 1000 volte e stimare il valore medio e la varianza dei risultati ot-\n",
    "tenuti."
   ]
  },
  {
   "cell_type": "code",
   "execution_count": null,
   "metadata": {},
   "outputs": [],
   "source": [
    "from random import randint\n",
    "\n",
    "\n",
    "def es4(n, m):\n",
    "    L1 = set({randint(1, m) for _ in range(n)})\n",
    "    L2 = set({randint(1, m) for _ in range(n)})\n",
    "    return len(L1.intersection(L2))\n",
    "\n",
    "\n",
    "def simulazione(n, m):\n",
    "    l_Sim = [es4(n, m) for _ in range(1000)]\n",
    "    return sum(l_Sim)/len(l_Sim), var(l_Sim)\n",
    "\n",
    "\n",
    "def var(l):\n",
    "    m = sum(l)/len(l)\n",
    "    s = 0\n",
    "    for x in l:\n",
    "        s += (x-m)**2\n",
    "    return s/len(l)\n",
    "\n",
    "\n",
    "print(simulazione(50, 1000))\n"
   ]
  },
  {
   "cell_type": "markdown",
   "metadata": {},
   "source": [
    "Esercizio 2A-B\n",
    "Si ottenga il file diabetes.csv\n",
    "Si tratta di un file con 768 record composti ciascuno di 9 campi.\n",
    "a) il formato dei dati è compatibile con Pyhton? Occhio al problema “.”<→”,”!"
   ]
  },
  {
   "cell_type": "code",
   "execution_count": null,
   "metadata": {},
   "outputs": [],
   "source": [
    "import pandas as pd\n",
    "\n",
    "DF = pd.read_csv(\"diabetes.csv\")\n",
    "DF.boxplot()\n"
   ]
  },
  {
   "cell_type": "markdown",
   "metadata": {},
   "source": [
    "Esercizio 2C \n",
    "istogrammi:\n",
    "gli studenti con cognome A-F producano istogrammi per le colonne Pregnancies, BMI\n",
    "gli studenti con cognome G-M producano istogrammi per le colonne Age,\n",
    "\n",
    "DiabetesPedegreeFunction\n",
    "gli studenti con cognome N-S producano istogrammi per le colonne Insulin, BMI\n",
    "gli studenti con cognome T-Z producano istogrammi per le colonne Glucose,\n",
    "DiabetesPedegreeFunction"
   ]
  },
  {
   "cell_type": "code",
   "execution_count": null,
   "metadata": {
    "slideshow": {
     "slide_type": "slide"
    }
   },
   "outputs": [],
   "source": [
    "DF.info()\n",
    "pd.crosstab(DF[\"Pregnancies\"], DF[\"Age\"])\n"
   ]
  },
  {
   "cell_type": "markdown",
   "metadata": {},
   "source": [
    "Esercizio 2D\n",
    "pie chart: produrre una piue chart della colonna outcome"
   ]
  },
  {
   "cell_type": "code",
   "execution_count": null,
   "metadata": {},
   "outputs": [],
   "source": [
    "DF[\"Outcome\"].unique()\n",
    "positive = sum(DF[\"Outcome\"][DF[\"Outcome\"] == 1])\n",
    "negative = len(DF) - positive\n",
    "F = pd.DataFrame([positive, negative])\n",
    "F[0].plot.pie()\n"
   ]
  },
  {
   "cell_type": "code",
   "execution_count": null,
   "metadata": {},
   "outputs": [],
   "source": [
    "from matplotlib import pyplot as plt\n",
    "P_OUT_0 = len(DF[\"Outcome\"][DF[\"Outcome\"] == 0])/len(DF)\n",
    "P_OUT_1 = len(DF[\"Outcome\"][DF[\"Outcome\"] == 1])/len(DF)\n",
    "\n",
    "DF[\"Age\"].nunique()  # ci sono tante età\n",
    "\n",
    "\n",
    "def P_age(k):\n",
    "    return len(DF[\"Age\"][DF[\"Age\"] == k])\n",
    "\n",
    "\n",
    "P_age = {}\n",
    "P_age = {k: len(DF[\"Age\"][DF[\"Age\"] == k])/len(DF) for k in DF[\"Age\"]}\n",
    "plt.bar(P_age.keys(), P_age.values())\n",
    "\n",
    "P_OUT_AGE = pd.crosstab(DF[\"Outcome\"], DF[\"Age\"])/len(DF)\n",
    "plt.plot(P_OUT_AGE.iloc[0, :])\n",
    "plt.plot(P_OUT_AGE.iloc[1, :])\n"
   ]
  },
  {
   "cell_type": "code",
   "execution_count": null,
   "metadata": {},
   "outputs": [],
   "source": [
    "#P(Age |outcome)\n",
    "\n",
    "DF_0 = DF[DF[\"Outcome\"] == 0]\n",
    "DF_1 = DF[DF[\"Outcome\"] == 1]\n",
    "\n",
    "P_age_0 = pd.crosstab(DF_0[\"Age\"], DF_0[\"Outcome\"])/len(DF_0)\n",
    "P_age_1 = pd.crosstab(DF_1[\"Age\"], DF_1[\"Outcome\"])/len(DF_1)\n"
   ]
  },
  {
   "cell_type": "markdown",
   "metadata": {},
   "source": [
    "Calcoliamo\n",
    "P(outcome | age) = P(Age|outcome)P(outcome) / P(Age)\n",
    "traduciamolo negli oggetti che abbiamo già calcolato \n",
    "P(age | outcome) per noi è P_age_0, P_age_1\n",
    "P(outcome) per noi P_OUT_0, P_OUT_1\n",
    "P(Age) per noi n+ P_age"
   ]
  },
  {
   "cell_type": "code",
   "execution_count": null,
   "metadata": {},
   "outputs": [],
   "source": [
    "P_0_Age = {age: P_age_0.loc[age]*P_OUT_0/P_age_0[age] for age in P_age_0}\n"
   ]
  }
 ],
 "metadata": {
  "kernelspec": {
   "display_name": "Python 3.11.0 64-bit",
   "language": "python",
   "name": "python3"
  },
  "language_info": {
   "codemirror_mode": {
    "name": "ipython",
    "version": 3
   },
   "file_extension": ".py",
   "mimetype": "text/x-python",
   "name": "python",
   "nbconvert_exporter": "python",
   "pygments_lexer": "ipython3",
   "version": "3.11.0 (main, Oct 24 2022, 18:26:48) [MSC v.1933 64 bit (AMD64)]"
  },
  "orig_nbformat": 4,
  "vscode": {
   "interpreter": {
    "hash": "5238573367df39f7286bb46f9ff5f08f63a01a80960060ce41e3c79b190280fa"
   }
  }
 },
 "nbformat": 4,
 "nbformat_minor": 2
}
